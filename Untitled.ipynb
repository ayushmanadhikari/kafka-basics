{
 "cells": [
  {
   "cell_type": "code",
   "execution_count": 22,
   "id": "92419de4-cd37-4eab-b5fc-fe4eeb3a8a10",
   "metadata": {},
   "outputs": [],
   "source": [
    "from pykafka import KafkaClient\n",
    "import random"
   ]
  },
  {
   "cell_type": "code",
   "execution_count": 23,
   "id": "c1881170-531b-4ce2-b1bb-81b93443373f",
   "metadata": {},
   "outputs": [],
   "source": [
    "client = KafkaClient(\"localhost: 9092\")"
   ]
  },
  {
   "cell_type": "code",
   "execution_count": 24,
   "id": "132f0dce-2ca3-4268-8a89-1784995f4bee",
   "metadata": {},
   "outputs": [],
   "source": [
    "topic = client.topics['new-topic']"
   ]
  },
  {
   "cell_type": "code",
   "execution_count": 25,
   "id": "71d95102-0ad8-4277-9396-25fa3d5b59a5",
   "metadata": {},
   "outputs": [
    {
     "name": "stdout",
     "output_type": "stream",
     "text": [
      "<pykafka.topic.Topic at 0x10499ebb0 (name=b'new-topic')>\n"
     ]
    }
   ],
   "source": [
    "print(topic)"
   ]
  },
  {
   "cell_type": "code",
   "execution_count": 67,
   "id": "95802562-fe75-4bbb-9530-76d3d5410e6f",
   "metadata": {},
   "outputs": [],
   "source": [
    "#defining a producer for topic new-topic\n",
    "producer = topic.get_producer()"
   ]
  },
  {
   "cell_type": "code",
   "execution_count": 91,
   "id": "cda5e35a-5b90-47c2-beb7-effeb06d8e7d",
   "metadata": {},
   "outputs": [],
   "source": [
    "#defining a consumer but hasn't subscribed to any topic\n",
    "consumer = topic.get_simple_consumer(deserializer=None)"
   ]
  },
  {
   "cell_type": "code",
   "execution_count": 92,
   "id": "37621f3e-077f-489f-a2fa-1dbb7ddec1dd",
   "metadata": {},
   "outputs": [
    {
     "data": {
      "text/plain": [
       "<pykafka.protocol.message.Message at 0x104b76ac0>"
      ]
     },
     "execution_count": 92,
     "metadata": {},
     "output_type": "execute_result"
    }
   ],
   "source": [
    "#producing message for topic\n",
    "producer.produce(b\"hello world!\")"
   ]
  },
  {
   "cell_type": "code",
   "execution_count": 184,
   "id": "a8d1beca-690e-4344-8c97-4c01d05d27d0",
   "metadata": {},
   "outputs": [],
   "source": [
    "count = 0\n",
    "while count < 5:\n",
    "    message = f\"message number: {count}\".encode(\"utf-8\") \n",
    "    producer.produce(message)\n",
    "    count += 1"
   ]
  },
  {
   "cell_type": "code",
   "execution_count": 185,
   "id": "49c4c60b-33b2-4e01-9a19-fd4adb0305b5",
   "metadata": {},
   "outputs": [],
   "source": [
    "def randommesasges():\n",
    "    word_list = [\"Human\", \"Hari\", \"Meat\", \"Sun\", \"Snake\", \"Robust\", \"Rock\", \"Tom Hardy\", \"Jennifer Lawrence\"]\n",
    "    return ' '.join(random.sample(word_list,3))"
   ]
  },
  {
   "cell_type": "code",
   "execution_count": 186,
   "id": "f439b621-cf40-4d34-b235-1896f4728354",
   "metadata": {},
   "outputs": [
    {
     "data": {
      "text/plain": [
       "<pykafka.protocol.message.Message at 0x104924f90>"
      ]
     },
     "execution_count": 186,
     "metadata": {},
     "output_type": "execute_result"
    }
   ],
   "source": [
    "producer.produce(randommesasges().encode('ascii'))"
   ]
  },
  {
   "cell_type": "code",
   "execution_count": 187,
   "id": "cde117c8-ef47-42c6-b045-c84a5a7aca46",
   "metadata": {},
   "outputs": [],
   "source": [
    "consumer.reset_offsets()"
   ]
  },
  {
   "cell_type": "code",
   "execution_count": 188,
   "id": "52e2e28a-10b1-458e-9e97-c7bc3eb86948",
   "metadata": {},
   "outputs": [],
   "source": [
    "msg = consumer.consume()"
   ]
  },
  {
   "cell_type": "code",
   "execution_count": 189,
   "id": "025c8ff6-269a-45f3-8702-9cab2f628e43",
   "metadata": {},
   "outputs": [
    {
     "name": "stdout",
     "output_type": "stream",
     "text": [
      "value: b'hello there'. partition: None, parition_id: 0, offset: 0\n"
     ]
    }
   ],
   "source": [
    "print(f\"value: {msg.value}. partition: {msg.partition_key}, parition_id: {msg.partition_id}, offset: {msg.offset}\")"
   ]
  },
  {
   "cell_type": "code",
   "execution_count": 190,
   "id": "c3f82311-70ce-4f33-a164-efa44c27fee2",
   "metadata": {},
   "outputs": [
    {
     "name": "stdout",
     "output_type": "stream",
     "text": [
      "msg_no: 0, value: b'hello there'. partition: None, parition_id: 0, offset: 0\n",
      "msg_no: 1, value: b'hey'. partition: None, parition_id: 0, offset: 1\n",
      "msg_no: 2, value: b'you there?'. partition: None, parition_id: 0, offset: 2\n",
      "msg_no: 3, value: b'exit'. partition: None, parition_id: 0, offset: 3\n",
      "msg_no: 4, value: b'want something?'. partition: None, parition_id: 0, offset: 4\n",
      "msg_no: 5, value: b'hey'. partition: None, parition_id: 0, offset: 5\n",
      "msg_no: 6, value: b'chss '. partition: None, parition_id: 0, offset: 6\n",
      "msg_no: 7, value: b'chss'. partition: None, parition_id: 0, offset: 7\n",
      "msg_no: 8, value: b'helllooooooooo'. partition: None, parition_id: 0, offset: 8\n",
      "msg_no: 9, value: b'anyone there?'. partition: None, parition_id: 0, offset: 9\n",
      "msg_no: 10, value: b'hey'. partition: None, parition_id: 0, offset: 10\n",
      "msg_no: 11, value: b'you there?'. partition: None, parition_id: 0, offset: 11\n",
      "msg_no: 12, value: b'hello there?'. partition: None, parition_id: 0, offset: 12\n",
      "msg_no: 13, value: b'you there?'. partition: None, parition_id: 0, offset: 13\n",
      "msg_no: 14, value: b\"what's uppppppp\". partition: None, parition_id: 0, offset: 14\n",
      "msg_no: 15, value: b'heeeeeee'. partition: None, parition_id: 0, offset: 15\n",
      "msg_no: 16, value: b'hello world!'. partition: None, parition_id: 0, offset: 16\n",
      "msg_no: 17, value: b'hello world!'. partition: None, parition_id: 0, offset: 17\n",
      "msg_no: 18, value: b'hello world!'. partition: None, parition_id: 0, offset: 18\n",
      "msg_no: 19, value: b'message number: 0'. partition: None, parition_id: 0, offset: 19\n",
      "msg_no: 20, value: b'message number: 1'. partition: None, parition_id: 0, offset: 20\n",
      "msg_no: 21, value: b'message number: 2'. partition: None, parition_id: 0, offset: 21\n",
      "msg_no: 22, value: b'message number: 3'. partition: None, parition_id: 0, offset: 22\n",
      "msg_no: 23, value: b'message number: 4'. partition: None, parition_id: 0, offset: 23\n",
      "msg_no: 24, value: b'message number: 0'. partition: None, parition_id: 0, offset: 24\n",
      "msg_no: 25, value: b'message number: 1'. partition: None, parition_id: 0, offset: 25\n",
      "msg_no: 26, value: b'message number: 2'. partition: None, parition_id: 0, offset: 26\n",
      "msg_no: 27, value: b'message number: 3'. partition: None, parition_id: 0, offset: 27\n",
      "msg_no: 28, value: b'message number: 4'. partition: None, parition_id: 0, offset: 28\n",
      "msg_no: 29, value: b'hello world!'. partition: None, parition_id: 0, offset: 29\n",
      "msg_no: 30, value: b'message number: 0'. partition: None, parition_id: 0, offset: 30\n",
      "msg_no: 31, value: b'message number: 1'. partition: None, parition_id: 0, offset: 31\n",
      "msg_no: 32, value: b'message number: 2'. partition: None, parition_id: 0, offset: 32\n",
      "msg_no: 33, value: b'message number: 3'. partition: None, parition_id: 0, offset: 33\n",
      "msg_no: 34, value: b'message number: 4'. partition: None, parition_id: 0, offset: 34\n",
      "msg_no: 35, value: b'hello world!'. partition: None, parition_id: 0, offset: 35\n",
      "msg_no: 36, value: b'message number: 0'. partition: None, parition_id: 0, offset: 36\n",
      "msg_no: 37, value: b'message number: 1'. partition: None, parition_id: 0, offset: 37\n",
      "msg_no: 38, value: b'message number: 2'. partition: None, parition_id: 0, offset: 38\n",
      "msg_no: 39, value: b'message number: 3'. partition: None, parition_id: 0, offset: 39\n",
      "msg_no: 40, value: b'message number: 4'. partition: None, parition_id: 0, offset: 40\n",
      "msg_no: 41, value: b'Snake Hari Jennifer Lawrence'. partition: None, parition_id: 0, offset: 41\n",
      "msg_no: 42, value: b'Snake Robust Tom Hardy'. partition: None, parition_id: 0, offset: 42\n",
      "msg_no: 43, value: b'Tom Hardy Hari Robust'. partition: None, parition_id: 0, offset: 43\n",
      "msg_no: 44, value: b'Jennifer Lawrence Meat Robust'. partition: None, parition_id: 0, offset: 44\n",
      "msg_no: 45, value: b'hello world!'. partition: None, parition_id: 0, offset: 45\n",
      "msg_no: 46, value: b'message number: 0'. partition: None, parition_id: 0, offset: 46\n",
      "msg_no: 47, value: b'message number: 1'. partition: None, parition_id: 0, offset: 47\n",
      "msg_no: 48, value: b'message number: 2'. partition: None, parition_id: 0, offset: 48\n",
      "msg_no: 49, value: b'message number: 3'. partition: None, parition_id: 0, offset: 49\n",
      "msg_no: 50, value: b'message number: 4'. partition: None, parition_id: 0, offset: 50\n",
      "msg_no: 51, value: b'Rock Robust Sun'. partition: None, parition_id: 0, offset: 51\n",
      "msg_no: 52, value: b'hello world!'. partition: None, parition_id: 0, offset: 52\n",
      "msg_no: 53, value: b'message number: 0'. partition: None, parition_id: 0, offset: 53\n",
      "msg_no: 54, value: b'message number: 1'. partition: None, parition_id: 0, offset: 54\n",
      "msg_no: 55, value: b'message number: 2'. partition: None, parition_id: 0, offset: 55\n",
      "msg_no: 56, value: b'message number: 3'. partition: None, parition_id: 0, offset: 56\n",
      "msg_no: 57, value: b'message number: 4'. partition: None, parition_id: 0, offset: 57\n",
      "msg_no: 58, value: b'Hari Tom Hardy Rock'. partition: None, parition_id: 0, offset: 58\n",
      "msg_no: 59, value: b'message number: 0'. partition: None, parition_id: 0, offset: 59\n",
      "msg_no: 60, value: b'message number: 1'. partition: None, parition_id: 0, offset: 60\n",
      "msg_no: 61, value: b'message number: 2'. partition: None, parition_id: 0, offset: 61\n",
      "msg_no: 62, value: b'message number: 3'. partition: None, parition_id: 0, offset: 62\n",
      "msg_no: 63, value: b'message number: 4'. partition: None, parition_id: 0, offset: 63\n",
      "msg_no: 64, value: b'message number: 0'. partition: None, parition_id: 0, offset: 64\n",
      "msg_no: 65, value: b'message number: 1'. partition: None, parition_id: 0, offset: 65\n",
      "msg_no: 66, value: b'message number: 2'. partition: None, parition_id: 0, offset: 66\n",
      "msg_no: 67, value: b'message number: 3'. partition: None, parition_id: 0, offset: 67\n",
      "msg_no: 68, value: b'message number: 4'. partition: None, parition_id: 0, offset: 68\n",
      "msg_no: 69, value: b'message number: 0'. partition: None, parition_id: 0, offset: 69\n",
      "msg_no: 70, value: b'message number: 1'. partition: None, parition_id: 0, offset: 70\n",
      "msg_no: 71, value: b'message number: 2'. partition: None, parition_id: 0, offset: 71\n",
      "msg_no: 72, value: b'message number: 3'. partition: None, parition_id: 0, offset: 72\n",
      "msg_no: 73, value: b'message number: 4'. partition: None, parition_id: 0, offset: 73\n",
      "msg_no: 74, value: b'message number: 0'. partition: None, parition_id: 0, offset: 74\n",
      "msg_no: 75, value: b'message number: 1'. partition: None, parition_id: 0, offset: 75\n",
      "msg_no: 76, value: b'message number: 2'. partition: None, parition_id: 0, offset: 76\n",
      "msg_no: 77, value: b'message number: 3'. partition: None, parition_id: 0, offset: 77\n",
      "msg_no: 78, value: b'message number: 4'. partition: None, parition_id: 0, offset: 78\n",
      "msg_no: 79, value: b'Tom Hardy Meat Jennifer Lawrence'. partition: None, parition_id: 0, offset: 79\n",
      "msg_no: 80, value: b'message number: 0'. partition: None, parition_id: 0, offset: 80\n",
      "msg_no: 81, value: b'message number: 1'. partition: None, parition_id: 0, offset: 81\n",
      "msg_no: 82, value: b'message number: 2'. partition: None, parition_id: 0, offset: 82\n",
      "msg_no: 83, value: b'message number: 3'. partition: None, parition_id: 0, offset: 83\n",
      "msg_no: 84, value: b'message number: 4'. partition: None, parition_id: 0, offset: 84\n",
      "msg_no: 85, value: b'Hari Human Rock'. partition: None, parition_id: 0, offset: 85\n",
      "msg_no: 86, value: b'message number: 0'. partition: None, parition_id: 0, offset: 86\n",
      "msg_no: 87, value: b'message number: 1'. partition: None, parition_id: 0, offset: 87\n",
      "msg_no: 88, value: b'message number: 2'. partition: None, parition_id: 0, offset: 88\n",
      "msg_no: 89, value: b'message number: 3'. partition: None, parition_id: 0, offset: 89\n",
      "msg_no: 90, value: b'message number: 4'. partition: None, parition_id: 0, offset: 90\n",
      "msg_no: 91, value: b'Jennifer Lawrence Sun Robust'. partition: None, parition_id: 0, offset: 91\n"
     ]
    }
   ],
   "source": [
    "consumer = topic.get_simple_consumer(consumer_timeout_ms =50000, auto_commit_enable=True)\n",
    "for msg in consumer:\n",
    "    print((f\"msg_no: {msg.offset}, value: {msg.value}. partition: {msg.partition_key}, parition_id: {msg.partition_id}, offset: {msg.offset}\"))"
   ]
  },
  {
   "cell_type": "code",
   "execution_count": 89,
   "id": "4f1258d2-25b1-4ac3-99e5-a24f1152b5aa",
   "metadata": {},
   "outputs": [
    {
     "data": {
      "text/plain": [
       "<pykafka.protocol.message.Message at 0x104f82270>"
      ]
     },
     "execution_count": 89,
     "metadata": {},
     "output_type": "execute_result"
    }
   ],
   "source": []
  },
  {
   "cell_type": "code",
   "execution_count": null,
   "id": "f37f4308-c608-44fc-a2e9-f161e4556599",
   "metadata": {},
   "outputs": [],
   "source": []
  }
 ],
 "metadata": {
  "kernelspec": {
   "display_name": "Python 3 (ipykernel)",
   "language": "python",
   "name": "python3"
  },
  "language_info": {
   "codemirror_mode": {
    "name": "ipython",
    "version": 3
   },
   "file_extension": ".py",
   "mimetype": "text/x-python",
   "name": "python",
   "nbconvert_exporter": "python",
   "pygments_lexer": "ipython3",
   "version": "3.9.10"
  }
 },
 "nbformat": 4,
 "nbformat_minor": 5
}
