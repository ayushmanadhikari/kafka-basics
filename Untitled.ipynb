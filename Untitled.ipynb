{
 "cells": [
  {
   "cell_type": "code",
   "execution_count": 22,
   "id": "92419de4-cd37-4eab-b5fc-fe4eeb3a8a10",
   "metadata": {},
   "outputs": [],
   "source": [
    "from pykafka import KafkaClient\n",
    "import random"
   ]
  },
  {
   "cell_type": "code",
   "execution_count": 23,
   "id": "c1881170-531b-4ce2-b1bb-81b93443373f",
   "metadata": {},
   "outputs": [],
   "source": [
    "client = KafkaClient(\"localhost: 9092\")"
   ]
  },
  {
   "cell_type": "code",
   "execution_count": 24,
   "id": "132f0dce-2ca3-4268-8a89-1784995f4bee",
   "metadata": {},
   "outputs": [],
   "source": [
    "topic = client.topics['new-topic']"
   ]
  },
  {
   "cell_type": "code",
   "execution_count": 25,
   "id": "71d95102-0ad8-4277-9396-25fa3d5b59a5",
   "metadata": {},
   "outputs": [
    {
     "name": "stdout",
     "output_type": "stream",
     "text": [
      "<pykafka.topic.Topic at 0x10499ebb0 (name=b'new-topic')>\n"
     ]
    }
   ],
   "source": [
    "print(topic)"
   ]
  },
  {
   "cell_type": "code",
   "execution_count": 67,
   "id": "95802562-fe75-4bbb-9530-76d3d5410e6f",
   "metadata": {},
   "outputs": [],
   "source": [
    "#defining a producer for topic new-topic\n",
    "producer = topic.get_producer()"
   ]
  },
  {
   "cell_type": "code",
   "execution_count": 91,
   "id": "cda5e35a-5b90-47c2-beb7-effeb06d8e7d",
   "metadata": {},
   "outputs": [],
   "source": [
    "#defining a consumer but hasn't subscribed to any topic\n",
    "consumer = topic.get_simple_consumer(deserializer=None)"
   ]
  },
  {
   "cell_type": "code",
   "execution_count": 92,
   "id": "37621f3e-077f-489f-a2fa-1dbb7ddec1dd",
   "metadata": {},
   "outputs": [
    {
     "data": {
      "text/plain": [
       "<pykafka.protocol.message.Message at 0x104b76ac0>"
      ]
     },
     "execution_count": 92,
     "metadata": {},
     "output_type": "execute_result"
    }
   ],
   "source": [
    "#producing message for topic\n",
    "producer.produce(b\"hello world!\")"
   ]
  },
  {
   "cell_type": "code",
   "execution_count": 93,
   "id": "a8d1beca-690e-4344-8c97-4c01d05d27d0",
   "metadata": {},
   "outputs": [],
   "source": [
    "count = 0\n",
    "while count < 5:\n",
    "    message = f\"message number: {count}\".encode(\"ascii\") \n",
    "    producer.produce(message)\n",
    "    count += 1"
   ]
  },
  {
   "cell_type": "code",
   "execution_count": 94,
   "id": "49c4c60b-33b2-4e01-9a19-fd4adb0305b5",
   "metadata": {},
   "outputs": [],
   "source": [
    "def randommesasges():\n",
    "    word_list = [\"Human\", \"Hari\", \"Meat\", \"Sun\", \"Snake\", \"Robust\", \"Rock\", \"Tom Hardy\", \"Jennifer Lawrence\"]\n",
    "    return ' '.join(random.sample(word_list,3))"
   ]
  },
  {
   "cell_type": "code",
   "execution_count": 95,
   "id": "f439b621-cf40-4d34-b235-1896f4728354",
   "metadata": {},
   "outputs": [
    {
     "data": {
      "text/plain": [
       "<pykafka.protocol.message.Message at 0x104f82c80>"
      ]
     },
     "execution_count": 95,
     "metadata": {},
     "output_type": "execute_result"
    }
   ],
   "source": [
    "producer.produce(randommesasges().encode('ascii'))"
   ]
  },
  {
   "cell_type": "code",
   "execution_count": 157,
   "id": "cde117c8-ef47-42c6-b045-c84a5a7aca46",
   "metadata": {},
   "outputs": [],
   "source": [
    "consumer.reset_offsets()"
   ]
  },
  {
   "cell_type": "code",
   "execution_count": 166,
   "id": "52e2e28a-10b1-458e-9e97-c7bc3eb86948",
   "metadata": {},
   "outputs": [],
   "source": [
    "msg = consumer.consume()"
   ]
  },
  {
   "cell_type": "code",
   "execution_count": 167,
   "id": "025c8ff6-269a-45f3-8702-9cab2f628e43",
   "metadata": {},
   "outputs": [
    {
     "name": "stdout",
     "output_type": "stream",
     "text": [
      "value: b'want something?'. partition: None, parition_id: 0, offset: 4\n"
     ]
    }
   ],
   "source": [
    "print(f\"value: {msg.value}. partition: {msg.partition_key}, parition_id: {msg.partition_id}, offset: {msg.offset}\")"
   ]
  },
  {
   "cell_type": "code",
   "execution_count": 88,
   "id": "c3f82311-70ce-4f33-a164-efa44c27fee2",
   "metadata": {},
   "outputs": [
    {
     "name": "stdout",
     "output_type": "stream",
     "text": [
      "<pykafka.protocol.message.Message object at 0x104f822e0>\n"
     ]
    }
   ],
   "source": []
  },
  {
   "cell_type": "code",
   "execution_count": 89,
   "id": "4f1258d2-25b1-4ac3-99e5-a24f1152b5aa",
   "metadata": {},
   "outputs": [
    {
     "data": {
      "text/plain": [
       "<pykafka.protocol.message.Message at 0x104f82270>"
      ]
     },
     "execution_count": 89,
     "metadata": {},
     "output_type": "execute_result"
    }
   ],
   "source": []
  },
  {
   "cell_type": "code",
   "execution_count": null,
   "id": "f37f4308-c608-44fc-a2e9-f161e4556599",
   "metadata": {},
   "outputs": [],
   "source": []
  }
 ],
 "metadata": {
  "kernelspec": {
   "display_name": "Python 3 (ipykernel)",
   "language": "python",
   "name": "python3"
  },
  "language_info": {
   "codemirror_mode": {
    "name": "ipython",
    "version": 3
   },
   "file_extension": ".py",
   "mimetype": "text/x-python",
   "name": "python",
   "nbconvert_exporter": "python",
   "pygments_lexer": "ipython3",
   "version": "3.9.10"
  }
 },
 "nbformat": 4,
 "nbformat_minor": 5
}
